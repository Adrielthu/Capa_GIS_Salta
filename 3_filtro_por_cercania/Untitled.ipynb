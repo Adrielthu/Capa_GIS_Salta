{
 "cells": [
  {
   "cell_type": "code",
   "execution_count": 2,
   "id": "2ea5fdd8-44bc-4d39-ae5a-004163045f96",
   "metadata": {},
   "outputs": [],
   "source": [
    "# Lectura y manipulación de datos\n",
    "library(readxl)     # Para leer archivos Excel\n",
    "library(dplyr)      # Para manipulación de datos\n",
    "library(reshape2)   # Para reestructurar y transformar datos\n",
    "library('stringr')   # Para manipulación de cadenas\n",
    "library('writexl')   # Para escribir archivos Excel\n",
    "library(tidyr)       # Se utiliza para organizar y limpiar datos."
   ]
  },
  {
   "cell_type": "code",
   "execution_count": 21,
   "id": "fa60848e-5ed6-40ac-8883-3dcd0e8e9da4",
   "metadata": {},
   "outputs": [
    {
     "data": {
      "text/html": [
       "<style>\n",
       ".list-inline {list-style: none; margin:0; padding: 0}\n",
       ".list-inline>li {display: inline-block}\n",
       ".list-inline>li:not(:last-child)::after {content: \"\\00b7\"; padding: 0 .5ex}\n",
       "</style>\n",
       "<ol class=list-inline><li>1175</li><li>6</li></ol>\n"
      ],
      "text/latex": [
       "\\begin{enumerate*}\n",
       "\\item 1175\n",
       "\\item 6\n",
       "\\end{enumerate*}\n"
      ],
      "text/markdown": [
       "1. 1175\n",
       "2. 6\n",
       "\n",
       "\n"
      ],
      "text/plain": [
       "[1] 1175    6"
      ]
     },
     "metadata": {},
     "output_type": "display_data"
    },
    {
     "data": {
      "text/html": [
       "<table class=\"dataframe\">\n",
       "<caption>A data.frame: 6 × 6</caption>\n",
       "<thead>\n",
       "\t<tr><th></th><th scope=col>Name</th><th scope=col>type</th><th scope=col>ratings</th><th scope=col>latitude</th><th scope=col>longitude</th><th scope=col>place_id</th></tr>\n",
       "\t<tr><th></th><th scope=col>&lt;chr&gt;</th><th scope=col>&lt;chr&gt;</th><th scope=col>&lt;int&gt;</th><th scope=col>&lt;dbl&gt;</th><th scope=col>&lt;dbl&gt;</th><th scope=col>&lt;chr&gt;</th></tr>\n",
       "</thead>\n",
       "<tbody>\n",
       "\t<tr><th scope=row>1</th><td>Fit.Ice                                       </td><td>ice_cream_shop        </td><td>2</td><td>-24.76536</td><td>-65.40178</td><td>ChIJlaHyqrDDG5QRgGuvDYHVTlA</td></tr>\n",
       "\t<tr><th scope=row>2</th><td>La polleria                                   </td><td>poultry_store         </td><td>3</td><td>-24.80191</td><td>-65.44489</td><td>ChIJ2RztW5bDG5QRUtTs5ujEPGc</td></tr>\n",
       "\t<tr><th scope=row>3</th><td>El tiburÃ³n y el pulpo                        </td><td>painting              </td><td>5</td><td>-24.80041</td><td>-65.39947</td><td>ChIJS_ScARnDG5QRWgJ0Qs8yiuE</td></tr>\n",
       "\t<tr><th scope=row>4</th><td><span style=white-space:pre-wrap>R&amp;S Tools                                     </span></td><td><span style=white-space:pre-wrap>e_commerce_service    </span></td><td>3</td><td>-24.80039</td><td>-65.39930</td><td>ChIJ1YJ_EC3DG5QRZsy8eAiNGVM</td></tr>\n",
       "\t<tr><th scope=row>5</th><td>Residencia Para Adultos Mayores               </td><td>retirement_home       </td><td>1</td><td>-24.80026</td><td>-65.39976</td><td>ChIJe59u6nXDG5QRu6LSQvM_9eg</td></tr>\n",
       "\t<tr><th scope=row>6</th><td>Orden Sufi Halveti Yerrahi - Salta (Argentina)</td><td>religious_organization</td><td>5</td><td>-24.80098</td><td>-65.39900</td><td>ChIJifLifXrDG5QRaQdkPBbI-iw</td></tr>\n",
       "</tbody>\n",
       "</table>\n"
      ],
      "text/latex": [
       "A data.frame: 6 × 6\n",
       "\\begin{tabular}{r|llllll}\n",
       "  & Name & type & ratings & latitude & longitude & place\\_id\\\\\n",
       "  & <chr> & <chr> & <int> & <dbl> & <dbl> & <chr>\\\\\n",
       "\\hline\n",
       "\t1 & Fit.Ice                                        & ice\\_cream\\_shop         & 2 & -24.76536 & -65.40178 & ChIJlaHyqrDDG5QRgGuvDYHVTlA\\\\\n",
       "\t2 & La polleria                                    & poultry\\_store          & 3 & -24.80191 & -65.44489 & ChIJ2RztW5bDG5QRUtTs5ujEPGc\\\\\n",
       "\t3 & El tiburÃ³n y el pulpo                         & painting               & 5 & -24.80041 & -65.39947 & ChIJS\\_ScARnDG5QRWgJ0Qs8yiuE\\\\\n",
       "\t4 & R\\&S Tools                                      & e\\_commerce\\_service     & 3 & -24.80039 & -65.39930 & ChIJ1YJ\\_EC3DG5QRZsy8eAiNGVM\\\\\n",
       "\t5 & Residencia Para Adultos Mayores                & retirement\\_home        & 1 & -24.80026 & -65.39976 & ChIJe59u6nXDG5QRu6LSQvM\\_9eg\\\\\n",
       "\t6 & Orden Sufi Halveti Yerrahi - Salta (Argentina) & religious\\_organization & 5 & -24.80098 & -65.39900 & ChIJifLifXrDG5QRaQdkPBbI-iw\\\\\n",
       "\\end{tabular}\n"
      ],
      "text/markdown": [
       "\n",
       "A data.frame: 6 × 6\n",
       "\n",
       "| <!--/--> | Name &lt;chr&gt; | type &lt;chr&gt; | ratings &lt;int&gt; | latitude &lt;dbl&gt; | longitude &lt;dbl&gt; | place_id &lt;chr&gt; |\n",
       "|---|---|---|---|---|---|---|\n",
       "| 1 | Fit.Ice                                        | ice_cream_shop         | 2 | -24.76536 | -65.40178 | ChIJlaHyqrDDG5QRgGuvDYHVTlA |\n",
       "| 2 | La polleria                                    | poultry_store          | 3 | -24.80191 | -65.44489 | ChIJ2RztW5bDG5QRUtTs5ujEPGc |\n",
       "| 3 | El tiburÃ³n y el pulpo                         | painting               | 5 | -24.80041 | -65.39947 | ChIJS_ScARnDG5QRWgJ0Qs8yiuE |\n",
       "| 4 | R&amp;S Tools                                      | e_commerce_service     | 3 | -24.80039 | -65.39930 | ChIJ1YJ_EC3DG5QRZsy8eAiNGVM |\n",
       "| 5 | Residencia Para Adultos Mayores                | retirement_home        | 1 | -24.80026 | -65.39976 | ChIJe59u6nXDG5QRu6LSQvM_9eg |\n",
       "| 6 | Orden Sufi Halveti Yerrahi - Salta (Argentina) | religious_organization | 5 | -24.80098 | -65.39900 | ChIJifLifXrDG5QRaQdkPBbI-iw |\n",
       "\n"
      ],
      "text/plain": [
       "  Name                                           type                   ratings\n",
       "1 Fit.Ice                                        ice_cream_shop         2      \n",
       "2 La polleria                                    poultry_store          3      \n",
       "3 El tiburÃ³n y el pulpo                         painting               5      \n",
       "4 R&S Tools                                      e_commerce_service     3      \n",
       "5 Residencia Para Adultos Mayores                retirement_home        1      \n",
       "6 Orden Sufi Halveti Yerrahi - Salta (Argentina) religious_organization 5      \n",
       "  latitude  longitude place_id                   \n",
       "1 -24.76536 -65.40178 ChIJlaHyqrDDG5QRgGuvDYHVTlA\n",
       "2 -24.80191 -65.44489 ChIJ2RztW5bDG5QRUtTs5ujEPGc\n",
       "3 -24.80041 -65.39947 ChIJS_ScARnDG5QRWgJ0Qs8yiuE\n",
       "4 -24.80039 -65.39930 ChIJ1YJ_EC3DG5QRZsy8eAiNGVM\n",
       "5 -24.80026 -65.39976 ChIJe59u6nXDG5QRu6LSQvM_9eg\n",
       "6 -24.80098 -65.39900 ChIJifLifXrDG5QRaQdkPBbI-iw"
      ]
     },
     "metadata": {},
     "output_type": "display_data"
    }
   ],
   "source": [
    "# Leer el archivo CSV\n",
    "input_file <- \"C:/Users/adrie/Desktop/TUPED/capa_GIS/Geo_Salta_24/4_busqueda_places_tipo/PopularPlacesFull-.csv\"\n",
    "data <- read.csv(input_file)\n",
    "dim(data)\n",
    "head(data)"
   ]
  },
  {
   "cell_type": "code",
   "execution_count": 13,
   "id": "4f3c2d19-00f3-454f-b6a3-823315a6be92",
   "metadata": {},
   "outputs": [
    {
     "data": {
      "text/html": [
       "<style>\n",
       ".list-inline {list-style: none; margin:0; padding: 0}\n",
       ".list-inline>li {display: inline-block}\n",
       ".list-inline>li:not(:last-child)::after {content: \"\\00b7\"; padding: 0 .5ex}\n",
       "</style>\n",
       "<ol class=list-inline><li>1175</li><li>6</li></ol>\n"
      ],
      "text/latex": [
       "\\begin{enumerate*}\n",
       "\\item 1175\n",
       "\\item 6\n",
       "\\end{enumerate*}\n"
      ],
      "text/markdown": [
       "1. 1175\n",
       "2. 6\n",
       "\n",
       "\n"
      ],
      "text/plain": [
       "[1] 1175    6"
      ]
     },
     "metadata": {},
     "output_type": "display_data"
    }
   ],
   "source": [
    "dim(distinct(data))"
   ]
  },
  {
   "cell_type": "code",
   "execution_count": 15,
   "id": "6e036357-45ea-4af8-ae01-ca2fe903f8af",
   "metadata": {},
   "outputs": [
    {
     "name": "stdout",
     "output_type": "stream",
     "text": [
      "[1] \"Número de duplicados: 161\"\n"
     ]
    },
    {
     "data": {
      "text/html": [
       "<style>\n",
       ".list-inline {list-style: none; margin:0; padding: 0}\n",
       ".list-inline>li {display: inline-block}\n",
       ".list-inline>li:not(:last-child)::after {content: \"\\00b7\"; padding: 0 .5ex}\n",
       "</style>\n",
       "<ol class=list-inline><li>1175</li><li>6</li></ol>\n"
      ],
      "text/latex": [
       "\\begin{enumerate*}\n",
       "\\item 1175\n",
       "\\item 6\n",
       "\\end{enumerate*}\n"
      ],
      "text/markdown": [
       "1. 1175\n",
       "2. 6\n",
       "\n",
       "\n"
      ],
      "text/plain": [
       "[1] 1175    6"
      ]
     },
     "metadata": {},
     "output_type": "display_data"
    }
   ],
   "source": [
    "# Contar el número de filas duplicadas\n",
    "num_duplicados <- nrow(data) - nrow(distinct(data))\n",
    "\n",
    "# Mostrar el número de duplicados\n",
    "print(paste(\"Número de duplicados:\", num_duplicados))\n",
    "# Eliminar las filas duplicadas\n",
    "data_sin_duplicados <- distinct(data)\n",
    "dim(data_sin_duplicados)"
   ]
  },
  {
   "cell_type": "code",
   "execution_count": null,
   "id": "18cb0713-a673-483d-93ed-97299a8f91fb",
   "metadata": {},
   "outputs": [],
   "source": [
    "\n",
    "# Guardar el archivo sin duplicados\n",
    "output_file <- \"C:/Users/adrie/Desktop/TUPED/capa_GIS/Geo_Salta_24/3_filtro_por_cercania/PopularPlaces_EmptyType_SinDuplicados.csv\"\n",
    "write.csv(data_sin_duplicados, output_file, row.names = FALSE)"
   ]
  },
  {
   "cell_type": "code",
   "execution_count": null,
   "id": "aff44bd5-363b-4754-a9fd-af9f909762d8",
   "metadata": {},
   "outputs": [],
   "source": []
  },
  {
   "cell_type": "code",
   "execution_count": 3,
   "id": "5199bcfb-7f11-4aea-8089-eed63eba8ce2",
   "metadata": {},
   "outputs": [],
   "source": [
    "# Leer los archivos CSV\n",
    "input_file <- \"C:/Users/adrie/Desktop/TUPED/capa_GIS/Geo_Salta_24/3_filtro_por_cercania/PopularPlaces_EmptyType.csv\"\n",
    "full_file <- \"C:/Users/adrie/Desktop/TUPED/capa_GIS/Geo_Salta_24/4_busqueda_places_tipo/PopularPlacesFull-.csv\"\n",
    "\n",
    "# Leer los archivos CSV sin convertir celdas vacías a NA\n",
    "input_df <- read.csv(input_file, stringsAsFactors = FALSE, na.strings = \"\")\n",
    "full_df <- read.csv(full_file, stringsAsFactors = FALSE, na.strings = \"\")\n",
    "\n",
    "# Extraer los place_id de PopularPlacesFull-.csv\n",
    "full_place_ids <- unique(full_df$place_id)\n",
    "\n",
    "# Filtrar el data frame de PopularPlaces_EmptyType.csv para eliminar los place_id que están en PopularPlacesFull-.csv\n",
    "filtered_df <- input_df %>%\n",
    "  filter(!place_id %in% full_place_ids)\n",
    "\n",
    "# Reemplazar NA por cadenas vacías en el data frame\n",
    "filtered_df[is.na(filtered_df)] <- \"\"\n"
   ]
  },
  {
   "cell_type": "code",
   "execution_count": 4,
   "id": "273846ce-e4fd-4140-b12e-d74471fd153e",
   "metadata": {},
   "outputs": [],
   "source": [
    "# Guardar el archivo filtrado en un nuevo archivo CSV\n",
    "output_file <- \"C:/Users/adrie/Desktop/TUPED/capa_GIS/Geo_Salta_24/4_busqueda_places_tipo/PopularPlaces_EmptyType_Filtered.csv\"\n",
    "write.csv(filtered_df, output_file, row.names = FALSE)"
   ]
  },
  {
   "cell_type": "code",
   "execution_count": null,
   "id": "b7cc2bec-1868-433e-83c7-d4aac66fd4e6",
   "metadata": {},
   "outputs": [],
   "source": []
  },
  {
   "cell_type": "code",
   "execution_count": 40,
   "id": "bae6464b-3f5a-47ba-b70b-59d30185dc3e",
   "metadata": {},
   "outputs": [],
   "source": [
    "# Definir el archivo de entrada\n",
    "input_file <- \"C:/Users/adrie/Desktop/TUPED/capa_GIS/Geo_Salta_24/4_busqueda_places_tipo/PopularPlaces_EmptyType_Filtered.csv\"\n",
    "\n",
    "# Leer el archivo CSV en un data frame\n",
    "df <- read.csv(input_file, stringsAsFactors = FALSE, na.strings = \"\")\n",
    "\n",
    "# Definir el número de líneas por fragmento\n",
    "lines_per_chunk <- 1000\n",
    "\n",
    "# Calcular el número total de fragmentos necesarios\n",
    "num_chunks <- ceiling(nrow(df) / lines_per_chunk)\n",
    "\n",
    "# Crear una función para dividir el data frame y guardar los fragmentos en archivos CSV\n",
    "split_and_save <- function(data, lines_per_chunk, base_filename) {\n",
    "  num_chunks <- ceiling(nrow(data) / lines_per_chunk)\n",
    "  \n",
    "  for (i in 1:num_chunks) {\n",
    "    # Obtener las filas para el fragmento actual\n",
    "    start_row <- (i - 1) * lines_per_chunk + 1\n",
    "    end_row <- min(i * lines_per_chunk, nrow(data))\n",
    "    \n",
    "    # Crear el nombre del archivo para el fragmento\n",
    "    output_file <- paste0(base_filename, \"_part_\", sprintf(\"%02d\", i), \".csv\")\n",
    "    \n",
    "    # Reemplazar NA con vacío antes de guardar\n",
    "    temp_data <- data[start_row:end_row, ]\n",
    "    temp_data[is.na(temp_data)] <- \"\"\n",
    "    \n",
    "    # Guardar el fragmento en un archivo CSV\n",
    "    write.csv(temp_data, output_file, row.names = FALSE, quote = TRUE)\n",
    "  }\n",
    "}\n",
    "# Llamar a la función para dividir y guardar los archivos\n",
    "split_and_save(df, lines_per_chunk, \"C:/Users/adrie/Desktop/TUPED/capa_GIS/Geo_Salta_24/4_busqueda_places_tipo/PopularPlaces_EmptyType\")\n"
   ]
  },
  {
   "cell_type": "markdown",
   "id": "ec5c7ecc-8f80-48ef-bea8-43f4cea0ee8f",
   "metadata": {},
   "source": [
    "# PLACES"
   ]
  },
  {
   "cell_type": "code",
   "execution_count": null,
   "id": "05e9c268-e49b-4c75-9c7c-d8883ef7889f",
   "metadata": {},
   "outputs": [],
   "source": [
    "# Definir el archivo de entrada\n",
    "input_file <- \"C:/Users/adrie/Desktop/TUPED/capa_GIS/Geo_Salta_24/4_busqueda_places_tipo/PopularPlaces_EmptyType_Filtered.csv\"\n",
    "\n",
    "\n",
    "# Leer el archivo CSV en un data frame\n",
    "df <- read.csv(input_file, stringsAsFactors = FALSE, na.strings = \"\")\n"
   ]
  }
 ],
 "metadata": {
  "kernelspec": {
   "display_name": "R",
   "language": "R",
   "name": "ir"
  },
  "language_info": {
   "codemirror_mode": "r",
   "file_extension": ".r",
   "mimetype": "text/x-r-source",
   "name": "R",
   "pygments_lexer": "r",
   "version": "4.1.3"
  }
 },
 "nbformat": 4,
 "nbformat_minor": 5
}
