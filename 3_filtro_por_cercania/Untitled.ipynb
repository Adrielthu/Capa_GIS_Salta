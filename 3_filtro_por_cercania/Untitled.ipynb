{
 "cells": [
  {
   "cell_type": "code",
   "execution_count": null,
   "id": "2ea5fdd8-44bc-4d39-ae5a-004163045f96",
   "metadata": {},
   "outputs": [],
   "source": [
    "# Lectura y manipulación de datos\n",
    "library(readxl)     # Para leer archivos Excel\n",
    "library(dplyr)      # Para manipulación de datos\n",
    "library(reshape2)   # Para reestructurar y transformar datos\n",
    "library('stringr')   # Para manipulación de cadenas\n",
    "library('writexl')   # Para escribir archivos Excel\n",
    "library(tidyr)       # Se utiliza para organizar y limpiar datos."
   ]
  }
 ],
 "metadata": {
  "kernelspec": {
   "display_name": "R",
   "language": "R",
   "name": "ir"
  },
  "language_info": {
   "codemirror_mode": "r",
   "file_extension": ".r",
   "mimetype": "text/x-r-source",
   "name": "R",
   "pygments_lexer": "r",
   "version": "4.1.3"
  }
 },
 "nbformat": 4,
 "nbformat_minor": 5
}
